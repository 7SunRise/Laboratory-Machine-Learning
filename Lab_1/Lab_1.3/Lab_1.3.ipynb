{
 "cells": [
  {
   "cell_type": "markdown",
   "id": "f50122b3",
   "metadata": {},
   "source": [
    "Импортируем все,что нам надо:"
   ]
  },
  {
   "cell_type": "code",
   "execution_count": 1,
   "id": "3bd2ef7d",
   "metadata": {},
   "outputs": [],
   "source": [
    "import pandas as pd\n",
    "import numpy as np\n",
    "from sklearn.metrics import mean_absolute_error, r2_score, mean_absolute_percentage_error\n",
    "from sklearn.datasets import load_diabetes\n",
    "from sklearn.model_selection import train_test_split\n",
    "from sklearn.linear_model import LinearRegression"
   ]
  },
  {
   "cell_type": "markdown",
   "id": "1196da16",
   "metadata": {},
   "source": [
    "Оценим качество модели из лабораторной 1.2:"
   ]
  },
  {
   "cell_type": "code",
   "execution_count": 2,
   "id": "92f3da53",
   "metadata": {},
   "outputs": [
    {
     "name": "stdout",
     "output_type": "stream",
     "text": [
      "Mean absolute error (MAE):  51.34084056075248\n",
      "R2:  0.23132831307953805\n",
      "Mean absolute percentage error (MAPE):  0.4659645445696647\n"
     ]
    }
   ],
   "source": [
    "diabetes = load_diabetes()                                                                        #\n",
    "df = pd.DataFrame(diabetes.data, columns=diabetes.feature_names)                                  #\n",
    "df['target'] = diabetes.target                                                                    #\n",
    "x = df['bmi'].values.reshape(-1,1)                                                                #\n",
    "y = df['target'].values                                                                           # действия аналогичны действиям из лабораторной 1.2\n",
    "x_train, x_test, y_train, y_test = train_test_split(x, y, test_size=0.3, random_state=0)          #\n",
    "sklearn_lr = LinearRegression()                                                                   #\n",
    "sklearn_lr.fit(x_train, y_train)                                                                  #\n",
    "y_pred = sklearn_lr.predict(x_test)                                                               #\n",
    "print('Mean absolute error (MAE): ', mean_absolute_error(y_test, y_pred))                         # выводим MAE\n",
    "print('R2: ', r2_score(y_test, y_pred))                                                           # выводим R2\n",
    "print('Mean absolute percentage error (MAPE): ', mean_absolute_percentage_error(y_test, y_pred))  # ВЫВОДИМ MAPE"
   ]
  },
  {
   "cell_type": "markdown",
   "id": "3b684a35",
   "metadata": {},
   "source": [
    "Как видно, модель получилась не так хороша. Это связано с тем, что таргет не очень сильно зависит линейно от выбранного нами признака bmi (хоть этот признак и наиболее коррелирован для таргет по сравнению с остальными)."
   ]
  }
 ],
 "metadata": {
  "kernelspec": {
   "display_name": "Python 3",
   "language": "python",
   "name": "python3"
  },
  "language_info": {
   "codemirror_mode": {
    "name": "ipython",
    "version": 3
   },
   "file_extension": ".py",
   "mimetype": "text/x-python",
   "name": "python",
   "nbconvert_exporter": "python",
   "pygments_lexer": "ipython3",
   "version": "3.12.6"
  }
 },
 "nbformat": 4,
 "nbformat_minor": 5
}
