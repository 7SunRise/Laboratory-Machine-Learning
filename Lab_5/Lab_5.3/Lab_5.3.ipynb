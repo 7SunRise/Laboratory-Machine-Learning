{
 "cells": [
  {
   "cell_type": "markdown",
   "id": "29048696",
   "metadata": {},
   "source": [
    "Импортируем все, что нам нужно:"
   ]
  },
  {
   "cell_type": "code",
   "execution_count": 39,
   "id": "5fd3004f",
   "metadata": {},
   "outputs": [],
   "source": [
    "from xgboost import XGBClassifier\n",
    "import pandas as pd\n",
    "import numpy as np\n",
    "from sklearn.model_selection import train_test_split\n",
    "from sklearn.metrics import f1_score\n",
    "import time"
   ]
  },
  {
   "cell_type": "markdown",
   "id": "1c15967e",
   "metadata": {},
   "source": [
    "Загружаем датасет:"
   ]
  },
  {
   "cell_type": "code",
   "execution_count": 40,
   "id": "15a0c462",
   "metadata": {},
   "outputs": [
    {
     "data": {
      "text/html": [
       "<div>\n",
       "<style scoped>\n",
       "    .dataframe tbody tr th:only-of-type {\n",
       "        vertical-align: middle;\n",
       "    }\n",
       "\n",
       "    .dataframe tbody tr th {\n",
       "        vertical-align: top;\n",
       "    }\n",
       "\n",
       "    .dataframe thead th {\n",
       "        text-align: right;\n",
       "    }\n",
       "</style>\n",
       "<table border=\"1\" class=\"dataframe\">\n",
       "  <thead>\n",
       "    <tr style=\"text-align: right;\">\n",
       "      <th></th>\n",
       "      <th>Pregnancies</th>\n",
       "      <th>Glucose</th>\n",
       "      <th>BloodPressure</th>\n",
       "      <th>SkinThickness</th>\n",
       "      <th>Insulin</th>\n",
       "      <th>BMI</th>\n",
       "      <th>DiabetesPedigreeFunction</th>\n",
       "      <th>Age</th>\n",
       "      <th>Outcome</th>\n",
       "    </tr>\n",
       "  </thead>\n",
       "  <tbody>\n",
       "    <tr>\n",
       "      <th>0</th>\n",
       "      <td>6</td>\n",
       "      <td>148</td>\n",
       "      <td>72</td>\n",
       "      <td>35</td>\n",
       "      <td>0</td>\n",
       "      <td>33.6</td>\n",
       "      <td>0.627</td>\n",
       "      <td>50</td>\n",
       "      <td>1</td>\n",
       "    </tr>\n",
       "    <tr>\n",
       "      <th>1</th>\n",
       "      <td>1</td>\n",
       "      <td>85</td>\n",
       "      <td>66</td>\n",
       "      <td>29</td>\n",
       "      <td>0</td>\n",
       "      <td>26.6</td>\n",
       "      <td>0.351</td>\n",
       "      <td>31</td>\n",
       "      <td>0</td>\n",
       "    </tr>\n",
       "    <tr>\n",
       "      <th>2</th>\n",
       "      <td>8</td>\n",
       "      <td>183</td>\n",
       "      <td>64</td>\n",
       "      <td>0</td>\n",
       "      <td>0</td>\n",
       "      <td>23.3</td>\n",
       "      <td>0.672</td>\n",
       "      <td>32</td>\n",
       "      <td>1</td>\n",
       "    </tr>\n",
       "    <tr>\n",
       "      <th>3</th>\n",
       "      <td>1</td>\n",
       "      <td>89</td>\n",
       "      <td>66</td>\n",
       "      <td>23</td>\n",
       "      <td>94</td>\n",
       "      <td>28.1</td>\n",
       "      <td>0.167</td>\n",
       "      <td>21</td>\n",
       "      <td>0</td>\n",
       "    </tr>\n",
       "    <tr>\n",
       "      <th>4</th>\n",
       "      <td>0</td>\n",
       "      <td>137</td>\n",
       "      <td>40</td>\n",
       "      <td>35</td>\n",
       "      <td>168</td>\n",
       "      <td>43.1</td>\n",
       "      <td>2.288</td>\n",
       "      <td>33</td>\n",
       "      <td>1</td>\n",
       "    </tr>\n",
       "    <tr>\n",
       "      <th>...</th>\n",
       "      <td>...</td>\n",
       "      <td>...</td>\n",
       "      <td>...</td>\n",
       "      <td>...</td>\n",
       "      <td>...</td>\n",
       "      <td>...</td>\n",
       "      <td>...</td>\n",
       "      <td>...</td>\n",
       "      <td>...</td>\n",
       "    </tr>\n",
       "    <tr>\n",
       "      <th>763</th>\n",
       "      <td>10</td>\n",
       "      <td>101</td>\n",
       "      <td>76</td>\n",
       "      <td>48</td>\n",
       "      <td>180</td>\n",
       "      <td>32.9</td>\n",
       "      <td>0.171</td>\n",
       "      <td>63</td>\n",
       "      <td>0</td>\n",
       "    </tr>\n",
       "    <tr>\n",
       "      <th>764</th>\n",
       "      <td>2</td>\n",
       "      <td>122</td>\n",
       "      <td>70</td>\n",
       "      <td>27</td>\n",
       "      <td>0</td>\n",
       "      <td>36.8</td>\n",
       "      <td>0.340</td>\n",
       "      <td>27</td>\n",
       "      <td>0</td>\n",
       "    </tr>\n",
       "    <tr>\n",
       "      <th>765</th>\n",
       "      <td>5</td>\n",
       "      <td>121</td>\n",
       "      <td>72</td>\n",
       "      <td>23</td>\n",
       "      <td>112</td>\n",
       "      <td>26.2</td>\n",
       "      <td>0.245</td>\n",
       "      <td>30</td>\n",
       "      <td>0</td>\n",
       "    </tr>\n",
       "    <tr>\n",
       "      <th>766</th>\n",
       "      <td>1</td>\n",
       "      <td>126</td>\n",
       "      <td>60</td>\n",
       "      <td>0</td>\n",
       "      <td>0</td>\n",
       "      <td>30.1</td>\n",
       "      <td>0.349</td>\n",
       "      <td>47</td>\n",
       "      <td>1</td>\n",
       "    </tr>\n",
       "    <tr>\n",
       "      <th>767</th>\n",
       "      <td>1</td>\n",
       "      <td>93</td>\n",
       "      <td>70</td>\n",
       "      <td>31</td>\n",
       "      <td>0</td>\n",
       "      <td>30.4</td>\n",
       "      <td>0.315</td>\n",
       "      <td>23</td>\n",
       "      <td>0</td>\n",
       "    </tr>\n",
       "  </tbody>\n",
       "</table>\n",
       "<p>768 rows × 9 columns</p>\n",
       "</div>"
      ],
      "text/plain": [
       "     Pregnancies  Glucose  BloodPressure  SkinThickness  Insulin   BMI  \\\n",
       "0              6      148             72             35        0  33.6   \n",
       "1              1       85             66             29        0  26.6   \n",
       "2              8      183             64              0        0  23.3   \n",
       "3              1       89             66             23       94  28.1   \n",
       "4              0      137             40             35      168  43.1   \n",
       "..           ...      ...            ...            ...      ...   ...   \n",
       "763           10      101             76             48      180  32.9   \n",
       "764            2      122             70             27        0  36.8   \n",
       "765            5      121             72             23      112  26.2   \n",
       "766            1      126             60              0        0  30.1   \n",
       "767            1       93             70             31        0  30.4   \n",
       "\n",
       "     DiabetesPedigreeFunction  Age  Outcome  \n",
       "0                       0.627   50        1  \n",
       "1                       0.351   31        0  \n",
       "2                       0.672   32        1  \n",
       "3                       0.167   21        0  \n",
       "4                       2.288   33        1  \n",
       "..                        ...  ...      ...  \n",
       "763                     0.171   63        0  \n",
       "764                     0.340   27        0  \n",
       "765                     0.245   30        0  \n",
       "766                     0.349   47        1  \n",
       "767                     0.315   23        0  \n",
       "\n",
       "[768 rows x 9 columns]"
      ]
     },
     "execution_count": 40,
     "metadata": {},
     "output_type": "execute_result"
    }
   ],
   "source": [
    "data = pd.read_csv('diabetes.csv')    # считываем данные из csv файла\n",
    "data                                  # проверяем, что данные считались нормально"
   ]
  },
  {
   "cell_type": "markdown",
   "id": "90ce3f6d",
   "metadata": {},
   "source": [
    "Разбиваем данные на тестовую и тренировочную выборки:"
   ]
  },
  {
   "cell_type": "code",
   "execution_count": 41,
   "id": "14a6a3d2",
   "metadata": {},
   "outputs": [],
   "source": [
    "x = data.drop(['Outcome'], axis=1)                                                                         # выбираем признаки\n",
    "y = data['Outcome']                                                                                        # выбираем целевую переменную\n",
    "x_train, x_test, y_train, y_test = train_test_split(x, y, test_size=0.3, stratify=y, random_state=0)       # разделяем данные на тестовую и тренировочную выборки"
   ]
  },
  {
   "cell_type": "markdown",
   "id": "deab3ab2",
   "metadata": {},
   "source": [
    "Возьмем модель из лабораторной 5.2:"
   ]
  },
  {
   "cell_type": "code",
   "execution_count": 42,
   "id": "eac9f3d0",
   "metadata": {},
   "outputs": [
    {
     "name": "stdout",
     "output_type": "stream",
     "text": [
      "F1:  0.6918238993710691\n",
      "Время обучения:  0.05884194374084473\n"
     ]
    }
   ],
   "source": [
    "bst = XGBClassifier(learning_rate=0.1, max_depth=3, n_estimators=100, subsample=0.8, random_state=121)   #\n",
    "start_time = time.time()                                                                                 #\n",
    "bst.fit(x_train, y_train)                                                                                #\n",
    "time_for_fit = time.time() - start_time                                                                  #  моедль из лабораторной 5.2\n",
    "preds = bst.predict(x_test)                                                                              #\n",
    "print('F1: ', f1_score(y_test, preds))                                                                   #\n",
    "print('Время обучения: ', time_for_fit)                                                                  #"
   ]
  },
  {
   "cell_type": "markdown",
   "id": "30a55523",
   "metadata": {},
   "source": [
    "Теперь подберем гиперпараметры XGBoost с помощью Skikit-Learn Random Search:"
   ]
  },
  {
   "cell_type": "code",
   "execution_count": 59,
   "id": "18b17f1c",
   "metadata": {},
   "outputs": [
    {
     "name": "stdout",
     "output_type": "stream",
     "text": [
      "Подобранные гиперпараметры:  {'subsample': np.float64(0.30000000000000004), 'reg_lambda': 80, 'reg_alpha': 0, 'num_estimators': 190, 'max_depth': 18}\n",
      "Полученный F1:  0.6336016525863424\n",
      "Затраченное время:  1.7110188007354736\n"
     ]
    }
   ],
   "source": [
    "from sklearn.model_selection import RandomizedSearchCV\n",
    "\n",
    "bst = XGBClassifier(random_state=121)  # создаем модель\n",
    "distributions = dict(max_depth=range(1, 21), num_estimators=range(10, 210, 10),\n",
    "\t\t\t\t\t subsample=np.arange(0, 1, 0.1), reg_lambda=range(0, 100, 10), reg_alpha=range(0, 100, 10))       # список возможных значений параметров модели\n",
    "clf = RandomizedSearchCV(bst, distributions, random_state=0, scoring=\"f1\")                 # ищем лучшие параметры случайным поиском\n",
    "start_time = time.time()                                                                   # время начала обучения\n",
    "search = clf.fit(x_train, y_train)                                                         # обучаем модель\n",
    "search_time = time.time() - start_time                                                     # ищем затраченное время\n",
    "print('Подобранные гиперпараметры: ', search.best_params_)                                 # выврдим набор подобранных параметров\n",
    "print('Полученный F1: ', search.best_score_)                                               # выводим результат F1\n",
    "print('Затраченное время: ', search_time)                                                  # выводим затраченное время на обучение"
   ]
  },
  {
   "cell_type": "markdown",
   "id": "da284573",
   "metadata": {},
   "source": [
    "Теперь подберем гиперпараметры, используя TPE и Hyperopt:"
   ]
  },
  {
   "cell_type": "code",
   "execution_count": null,
   "id": "572686b5",
   "metadata": {},
   "outputs": [],
   "source": [
    "from hyperopt import hp, fmin, tpe, Trials, STATUS_OK\n",
    "\n",
    "def objective(params):                                                    # принцип, по которому выбираются лучшие гиперпараметры\n",
    "\tmodel = XGBClassifier(**params)\n",
    "\tmodel.fit(x_train, y_train)\n",
    "\tpred = model.predict(x_test)\n",
    "\treturn {'loss': -f1_score(y_test, pred), 'status': STATUS_OK}\n",
    "\n",
    "space = {'max_depth': hp.choice('max_depth', range(1, 21)),\n",
    "\t\t 'n_estimators': hp.choice('n_estimators', range(10, 210, 10)),\n",
    "\t\t 'subsample': hp.uniform('subsample', 0, 1),\n",
    "\t\t 'reg_lambda': hp.choice('reg_lambda', range(0, 100, 10)),\n",
    "\t\t 'reg_alpha': hp.choice('reg_alpha', range(0, 100, 10))}          # список возможных значений парамеров"
   ]
  },
  {
   "cell_type": "code",
   "execution_count": 66,
   "id": "25316026",
   "metadata": {},
   "outputs": [
    {
     "name": "stdout",
     "output_type": "stream",
     "text": [
      "Подобранные гиперпараметры:  {'max_depth': 7, 'n_estimators': 120, 'subsample': np.float64(0.8848605065236543), 'reg_lambda': 10, 'reg_aplha': 0}\n",
      "Полученные F1:  0.7125\n",
      "Затраченное время:  2.0265798568725586\n"
     ]
    }
   ],
   "source": [
    "trials = Trials()                                                                    # все результаты обучения\n",
    "start_time = time.time()                                                             # время на начало обучения\n",
    "best = fmin(fn=objective, space=space, algo=tpe.suggest, max_evals=40,\n",
    "\t\t\ttrials=trials, show_progressbar=False)                                   # поиск лучших гиперпараметров\n",
    "search_time = time.time() - start_time                                               # время конца обучения\n",
    "best_params = {'max_depth': list(range(1, 21))[best['max_depth']],\n",
    "\t\t\t   'n_estimators': list(range(10, 210, 10))[best['n_estimators']],\n",
    "\t\t\t   'subsample': best['subsample'],\n",
    "\t\t\t   'reg_lambda': list(range(0, 100, 10))[best['reg_lambda']],\n",
    "\t\t\t   'reg_aplha': list(range(0, 100, 10))[best['reg_alpha']]}              # представляем параметры в удобной форме\n",
    "print('Подобранные гиперпараметры: ', best_params)                                   # выводим подобранный набор гиперпараметров\n",
    "print('Полученные F1: ', -trials.best_trial['result']['loss'])                       # выводим значение F1 для данного набора\n",
    "print('Затраченное время: ', search_time)                                            # выводим затраченное время"
   ]
  },
  {
   "cell_type": "markdown",
   "id": "871f6ffa",
   "metadata": {},
   "source": [
    "Таким образом, за время чуть больше чем при случайном поиске мы получили F1 качество лучше, чем при случайном поиске. При случайном поиске получает, что reg_alpha стремится быть очень маленьким (около 0), reg_lambda стремится к 80, количество деревьев большое (т.е. 190), глубина деревьев равна 18. При поиске с помощью TPE, получаем меньшую глубину (7 по сравнению с 18) и меньшее число деревьев (120 по сравнению с 190), а также меньшее значение reg_lambda = 10. Reg_alpha осталось таким же."
   ]
  }
 ],
 "metadata": {
  "kernelspec": {
   "display_name": "Python 3",
   "language": "python",
   "name": "python3"
  },
  "language_info": {
   "codemirror_mode": {
    "name": "ipython",
    "version": 3
   },
   "file_extension": ".py",
   "mimetype": "text/x-python",
   "name": "python",
   "nbconvert_exporter": "python",
   "pygments_lexer": "ipython3",
   "version": "3.12.6"
  }
 },
 "nbformat": 4,
 "nbformat_minor": 5
}
